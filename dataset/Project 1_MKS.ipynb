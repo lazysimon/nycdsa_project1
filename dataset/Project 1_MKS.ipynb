{
 "cells": [
  {
   "cell_type": "code",
   "execution_count": 1,
   "metadata": {},
   "outputs": [],
   "source": [
    "import numpy as np\n",
    "import pandas as pd\n",
    "from matplotlib import pyplot as plt\n",
    "plt.style.use('ggplot')"
   ]
  },
  {
   "cell_type": "code",
   "execution_count": 2,
   "metadata": {},
   "outputs": [],
   "source": [
    "%matplotlib inline"
   ]
  },
  {
   "cell_type": "code",
   "execution_count": 3,
   "metadata": {},
   "outputs": [],
   "source": [
    "#!type resale_Lincoln_MKS.csv"
   ]
  },
  {
   "cell_type": "code",
   "execution_count": 4,
   "metadata": {},
   "outputs": [
    {
     "data": {
      "text/html": [
       "<div>\n",
       "<style scoped>\n",
       "    .dataframe tbody tr th:only-of-type {\n",
       "        vertical-align: middle;\n",
       "    }\n",
       "\n",
       "    .dataframe tbody tr th {\n",
       "        vertical-align: top;\n",
       "    }\n",
       "\n",
       "    .dataframe thead th {\n",
       "        text-align: right;\n",
       "    }\n",
       "</style>\n",
       "<table border=\"1\" class=\"dataframe\">\n",
       "  <thead>\n",
       "    <tr style=\"text-align: right;\">\n",
       "      <th></th>\n",
       "      <th>brand</th>\n",
       "      <th>config</th>\n",
       "      <th>drivetrain</th>\n",
       "      <th>exterior_color</th>\n",
       "      <th>interior_color</th>\n",
       "      <th>mileage</th>\n",
       "      <th>model</th>\n",
       "      <th>price</th>\n",
       "      <th>transmission</th>\n",
       "      <th>year</th>\n",
       "    </tr>\n",
       "  </thead>\n",
       "  <tbody>\n",
       "    <tr>\n",
       "      <th>0</th>\n",
       "      <td>Lincoln</td>\n",
       "      <td>Base</td>\n",
       "      <td>AWD</td>\n",
       "      <td>Other</td>\n",
       "      <td>Black</td>\n",
       "      <td>46828</td>\n",
       "      <td>MKS</td>\n",
       "      <td>15995.0</td>\n",
       "      <td>Automatic</td>\n",
       "      <td>2013</td>\n",
       "    </tr>\n",
       "    <tr>\n",
       "      <th>1</th>\n",
       "      <td>Lincoln</td>\n",
       "      <td>Base</td>\n",
       "      <td>AWD</td>\n",
       "      <td>Brown</td>\n",
       "      <td>Black</td>\n",
       "      <td>143395</td>\n",
       "      <td>MKS</td>\n",
       "      <td>7950.0</td>\n",
       "      <td>Automatic</td>\n",
       "      <td>2009</td>\n",
       "    </tr>\n",
       "    <tr>\n",
       "      <th>2</th>\n",
       "      <td>Lincoln</td>\n",
       "      <td>Base</td>\n",
       "      <td>AWD</td>\n",
       "      <td>Beige</td>\n",
       "      <td>Other</td>\n",
       "      <td>83120</td>\n",
       "      <td>MKS</td>\n",
       "      <td>9710.0</td>\n",
       "      <td>Automatic</td>\n",
       "      <td>2009</td>\n",
       "    </tr>\n",
       "    <tr>\n",
       "      <th>3</th>\n",
       "      <td>Lincoln</td>\n",
       "      <td>Base</td>\n",
       "      <td>AWD</td>\n",
       "      <td>Black</td>\n",
       "      <td>Beige</td>\n",
       "      <td>96814</td>\n",
       "      <td>MKS</td>\n",
       "      <td>9499.0</td>\n",
       "      <td>Automatic</td>\n",
       "      <td>2009</td>\n",
       "    </tr>\n",
       "    <tr>\n",
       "      <th>4</th>\n",
       "      <td>Lincoln</td>\n",
       "      <td>Base</td>\n",
       "      <td>AWD</td>\n",
       "      <td>Brown</td>\n",
       "      <td>Black</td>\n",
       "      <td>57878</td>\n",
       "      <td>MKS</td>\n",
       "      <td>11900.0</td>\n",
       "      <td>Automatic</td>\n",
       "      <td>2013</td>\n",
       "    </tr>\n",
       "  </tbody>\n",
       "</table>\n",
       "</div>"
      ],
      "text/plain": [
       "     brand config drivetrain exterior_color interior_color  mileage model  \\\n",
       "0  Lincoln   Base        AWD          Other          Black    46828   MKS   \n",
       "1  Lincoln   Base        AWD          Brown          Black   143395   MKS   \n",
       "2  Lincoln   Base        AWD          Beige          Other    83120   MKS   \n",
       "3  Lincoln   Base        AWD          Black          Beige    96814   MKS   \n",
       "4  Lincoln   Base        AWD          Brown          Black    57878   MKS   \n",
       "\n",
       "     price transmission  year  \n",
       "0  15995.0    Automatic  2013  \n",
       "1   7950.0    Automatic  2009  \n",
       "2   9710.0    Automatic  2009  \n",
       "3   9499.0    Automatic  2009  \n",
       "4  11900.0    Automatic  2013  "
      ]
     },
     "execution_count": 4,
     "metadata": {},
     "output_type": "execute_result"
    }
   ],
   "source": [
    "# load dataset\n",
    "df_MKS = pd.read_csv('resale_Lincoln_MKS.csv')\n",
    "df_MKS.head()"
   ]
  },
  {
   "cell_type": "code",
   "execution_count": 5,
   "metadata": {},
   "outputs": [],
   "source": [
    "## clean the dataset\n",
    "# drop rows that have NaN\n",
    "df_MKS = df_MKS.dropna(axis=0, how='any')"
   ]
  },
  {
   "cell_type": "code",
   "execution_count": 6,
   "metadata": {},
   "outputs": [
    {
     "name": "stdout",
     "output_type": "stream",
     "text": [
      "config\n",
      "Base        439\n",
      "EcoBoost     83\n",
      "dtype: int64\n"
     ]
    },
    {
     "data": {
      "text/plain": [
       "Text(0.5, 1.0, 'Lincoln MKS-Configuration Plot')"
      ]
     },
     "execution_count": 6,
     "metadata": {},
     "output_type": "execute_result"
    },
    {
     "data": {
      "image/png": "[encoded data removed]",
      "text/plain": [
       "<Figure size 432x288 with 1 Axes>"
      ]
     },
     "metadata": {
      "needs_background": "light"
     },
     "output_type": "display_data"
    }
   ],
   "source": [
    "## Explore the dataset: Take care of the config: only care about Base and EcoBoost\n",
    "df_MKS.replace(' BASE', ' Base', inplace = True)\n",
    "df_MKS.replace(' Base', 'Base', inplace = True)\n",
    "df_MKS.replace(' EcoBoost', 'EcoBoost', inplace = True)\n",
    "df_MKS = df_MKS[df_MKS['config'].isin(['Base', 'EcoBoost']) ]\n",
    "group_config = df_MKS.groupby('config')\n",
    "print(group_config.size())\n",
    "df_MKS['config'].value_counts().plot(kind='bar')\n",
    "plt.xlabel('Configuration')\n",
    "plt.ylabel('Frequency')\n",
    "plt.title('Lincoln MKS-Configuration Plot')"
   ]
  },
  {
   "cell_type": "code",
   "execution_count": 7,
   "metadata": {},
   "outputs": [
    {
     "name": "stdout",
     "output_type": "stream",
     "text": [
      "exterior_color\n",
      "Black     147\n",
      "White     105\n",
      "Brown      80\n",
      "Silver     58\n",
      "Red        48\n",
      "dtype: int64\n"
     ]
    },
    {
     "data": {
      "text/plain": [
       "Text(0.5, 1.0, 'Lincoln MKS-Exterior Color')"
      ]
     },
     "execution_count": 7,
     "metadata": {},
     "output_type": "execute_result"
    },
    {
     "data": {
      "image/png": "[encoded data removed]",
      "text/plain": [
       "<Figure size 432x288 with 1 Axes>"
      ]
     },
     "metadata": {
      "needs_background": "light"
     },
     "output_type": "display_data"
    }
   ],
   "source": [
    "## Explore the dataset: Take care of the exterior_color: ['Black', 'White', 'Brown', 'Silver', 'Red', 'Gray', 'Beige', 'Other', 'Blue']\n",
    "df_MKS = df_MKS[df_MKS['exterior_color'].isin(['Black', 'White', 'Brown', 'Silver', 'Red'])]\n",
    "group_ext_color = df_MKS.groupby('exterior_color')\n",
    "print(group_ext_color.size().sort_values(ascending = False))\n",
    "#plt.hist(df_MKS['exterior_color'])\n",
    "df_MKS['exterior_color'].value_counts().plot(kind='bar')\n",
    "plt.xlabel('Exterior Color')\n",
    "plt.ylabel('Frequency')\n",
    "plt.title('Lincoln MKS-Exterior Color')"
   ]
  },
  {
   "cell_type": "code",
   "execution_count": 8,
   "metadata": {},
   "outputs": [
    {
     "name": "stdout",
     "output_type": "stream",
     "text": [
      "interior_color\n",
      "Beige    199\n",
      "Black    167\n",
      "Other     56\n",
      "dtype: int64\n"
     ]
    },
    {
     "data": {
      "text/plain": [
       "Text(0.5, 1.0, 'Lincoln MKS-Interior Color')"
      ]
     },
     "execution_count": 8,
     "metadata": {},
     "output_type": "execute_result"
    },
    {
     "data": {
      "image/png": "[encoded data removed]",
      "text/plain": [
       "<Figure size 432x288 with 1 Axes>"
      ]
     },
     "metadata": {
      "needs_background": "light"
     },
     "output_type": "display_data"
    }
   ],
   "source": [
    "## Explore the dataset: Take care of the interior_color: []\n",
    "df_MKS = df_MKS[df_MKS['interior_color'].isin(['Beige', 'Black', 'Other'])]\n",
    "group_int_color = df_MKS.groupby('interior_color')\n",
    "print(group_int_color.size().sort_values(ascending = False))\n",
    "df_MKS['interior_color'].value_counts().plot(kind='bar')\n",
    "plt.xlabel('Interior Color')\n",
    "plt.ylabel('Frequency')\n",
    "plt.title('Lincoln MKS-Interior Color')"
   ]
  },
  {
   "cell_type": "code",
   "execution_count": 9,
   "metadata": {},
   "outputs": [
    {
     "name": "stdout",
     "output_type": "stream",
     "text": [
      "drivetrain\n",
      "FWD    226\n",
      "AWD    196\n",
      "dtype: int64\n"
     ]
    },
    {
     "data": {
      "text/plain": [
       "Text(0.5, 1.0, 'Lincoln MKS-Drivetrain')"
      ]
     },
     "execution_count": 9,
     "metadata": {},
     "output_type": "execute_result"
    },
    {
     "data": {
      "image/png": "[encoded data removed]",
      "text/plain": [
       "<Figure size 432x288 with 1 Axes>"
      ]
     },
     "metadata": {
      "needs_background": "light"
     },
     "output_type": "display_data"
    }
   ],
   "source": [
    "## Explore the dataset: Take care of the drivetrain:\n",
    "group_dt = df_MKS.groupby('drivetrain')\n",
    "print(group_dt.size().sort_values(ascending = False))\n",
    "df_MKS['drivetrain'].value_counts().plot(kind='bar')\n",
    "plt.xlabel('Drivetrain')\n",
    "plt.ylabel('Frequency')\n",
    "plt.title('Lincoln MKS-Drivetrain')"
   ]
  },
  {
   "cell_type": "code",
   "execution_count": 10,
   "metadata": {},
   "outputs": [
    {
     "name": "stdout",
     "output_type": "stream",
     "text": [
      "year\n",
      "2015    137\n",
      "2013     74\n",
      "2016     70\n",
      "2014     45\n",
      "2009     42\n",
      "2010     23\n",
      "2012     19\n",
      "2011     12\n",
      "dtype: int64\n"
     ]
    },
    {
     "data": {
      "text/plain": [
       "Text(0.5, 1.0, 'Lincoln MKS-Year')"
      ]
     },
     "execution_count": 10,
     "metadata": {},
     "output_type": "execute_result"
    },
    {
     "data": {
      "image/png": "[encoded data removed]",
      "text/plain": [
       "<Figure size 432x288 with 1 Axes>"
      ]
     },
     "metadata": {
      "needs_background": "light"
     },
     "output_type": "display_data"
    }
   ],
   "source": [
    "## Explore the dataset: Take care of the year:\n",
    "group_yr = df_MKS.groupby('year')\n",
    "print(group_yr.size().sort_values(ascending = False))\n",
    "df_MKS['year'].value_counts().plot(kind='bar')\n",
    "plt.xlabel('Year')\n",
    "plt.ylabel('Frequency')\n",
    "plt.title('Lincoln MKS-Year')"
   ]
  },
  {
   "cell_type": "code",
   "execution_count": 11,
   "metadata": {},
   "outputs": [
    {
     "data": {
      "text/plain": [
       "Text(0.5, 1.0, 'Lincoln MKS-Price vs Mileage')"
      ]
     },
     "execution_count": 11,
     "metadata": {},
     "output_type": "execute_result"
    },
    {
     "data": {
      "image/png": "[encoded data removed]",
      "text/plain": [
       "<Figure size 432x288 with 1 Axes>"
      ]
     },
     "metadata": {
      "needs_background": "light"
     },
     "output_type": "display_data"
    }
   ],
   "source": [
    "# scatter(x='Mileage', y='Price')\n",
    "df_MKS.plot(kind='scatter',x='mileage', y='price')\n",
    "plt.xlabel('Mileage')\n",
    "plt.ylabel('Price')\n",
    "plt.title('Lincoln MKS-Price vs Mileage')"
   ]
  },
  {
   "cell_type": "code",
   "execution_count": 12,
   "metadata": {},
   "outputs": [
    {
     "data": {
      "text/plain": [
       "Text(0.5, 1.0, 'Lincoln MKS-Price vs Year')"
      ]
     },
     "execution_count": 12,
     "metadata": {},
     "output_type": "execute_result"
    },
    {
     "data": {
      "image/png": "[encoded data removed]",
      "text/plain": [
       "<Figure size 432x288 with 1 Axes>"
      ]
     },
     "metadata": {
      "needs_background": "light"
     },
     "output_type": "display_data"
    }
   ],
   "source": [
    "# scatter(x='Year', y='Price')\n",
    "df_MKS.plot(kind='scatter',x='year', y='price')\n",
    "plt.xlabel('Year')\n",
    "plt.ylabel('Price')\n",
    "plt.title('Lincoln MKS-Price vs Year')"
   ]
  },
  {
   "cell_type": "code",
   "execution_count": 13,
   "metadata": {},
   "outputs": [
    {
     "data": {
      "text/plain": [
       "<matplotlib.axes._subplots.AxesSubplot at 0x207afda1c88>"
      ]
     },
     "execution_count": 13,
     "metadata": {},
     "output_type": "execute_result"
    },
    {
     "data": {
      "image/png": "[encoded data removed]",
      "text/plain": [
       "<Figure size 432x288 with 1 Axes>"
      ]
     },
     "metadata": {
      "needs_background": "light"
     },
     "output_type": "display_data"
    }
   ],
   "source": [
    "import seaborn as sns\n",
    "# boxplot of price by config\n",
    "sns.boxplot(x='config', y='price', data=df_MKS)"
   ]
  },
  {
   "cell_type": "code",
   "execution_count": 14,
   "metadata": {},
   "outputs": [
    {
     "data": {
      "text/plain": [
       "<matplotlib.axes._subplots.AxesSubplot at 0x207b18528d0>"
      ]
     },
     "execution_count": 14,
     "metadata": {},
     "output_type": "execute_result"
    },
    {
     "data": {
      "image/png": "[encoded data removed]",
      "text/plain": [
       "<Figure size 432x288 with 1 Axes>"
      ]
     },
     "metadata": {
      "needs_background": "light"
     },
     "output_type": "display_data"
    }
   ],
   "source": [
    "# boxplot of price by drivetrain\n",
    "sns.boxplot(x='drivetrain', y='price', data=df_MKS)"
   ]
  },
  {
   "cell_type": "code",
   "execution_count": 15,
   "metadata": {},
   "outputs": [
    {
     "data": {
      "text/plain": [
       "<matplotlib.axes._subplots.AxesSubplot at 0x207b18b1cf8>"
      ]
     },
     "execution_count": 15,
     "metadata": {},
     "output_type": "execute_result"
    },
    {
     "data": {
      "image/png": "[encoded data removed]",
      "text/plain": [
       "<Figure size 432x288 with 1 Axes>"
      ]
     },
     "metadata": {
      "needs_background": "light"
     },
     "output_type": "display_data"
    }
   ],
   "source": [
    "# boxplot of price by color\n",
    "sns.boxplot(x='exterior_color', y='price', data=df_MKS)"
   ]
  },
  {
   "cell_type": "code",
   "execution_count": 16,
   "metadata": {},
   "outputs": [
    {
     "data": {
      "text/plain": [
       "<matplotlib.axes._subplots.AxesSubplot at 0x207b193fe48>"
      ]
     },
     "execution_count": 16,
     "metadata": {},
     "output_type": "execute_result"
    },
    {
     "data": {
      "image/png": "[encoded data removed]",
      "text/plain": [
       "<Figure size 432x288 with 1 Axes>"
      ]
     },
     "metadata": {
      "needs_background": "light"
     },
     "output_type": "display_data"
    }
   ],
   "source": [
    "# boxplot of price by transmission\n",
    "sns.boxplot(x='transmission', y='price', data=df_MKS)"
   ]
  },
  {
   "cell_type": "code",
   "execution_count": 17,
   "metadata": {},
   "outputs": [
    {
     "name": "stdout",
     "output_type": "stream",
     "text": [
      "[[1826.50916482]]\n",
      "[-3661335.30372417]\n",
      "[[0.79233752]]\n",
      "[[0.65389587]]\n"
     ]
    }
   ],
   "source": [
    "## Models \n",
    "# Linear Regression on Price vs Year\n",
    "from sklearn.linear_model import LinearRegression\n",
    "X = df_MKS['year'].values.reshape(-1, 1)\n",
    "y = df_MKS['price'].values.reshape(-1, 1)\n",
    "reg = LinearRegression().fit(X, y)\n",
    "print(reg.coef_)\n",
    "print(reg.intercept_)\n",
    "price_2019 = reg.predict(np.array([2019]).reshape(-1, 1))\n",
    "price_2016 = reg.predict(np.array([2016]).reshape(-1, 1))\n",
    "price_2014 = reg.predict(np.array([2014]).reshape(-1, 1))\n",
    "print(price_2016/price_2019)\n",
    "print(price_2014/price_2019)"
   ]
  },
  {
   "cell_type": "code",
   "execution_count": 18,
   "metadata": {},
   "outputs": [
    {
     "name": "stdout",
     "output_type": "stream",
     "text": [
      "[[-0.13022405]]\n",
      "[24636.04955613]\n",
      "[[0.76213385]]\n",
      "[[0.60355641]]\n"
     ]
    }
   ],
   "source": [
    "# Linear Regression on Price vs Mileage\n",
    "from sklearn.linear_model import LinearRegression\n",
    "X = df_MKS['mileage'].values.reshape(-1, 1)\n",
    "y = df_MKS['price'].values.reshape(-1, 1)\n",
    "reg = LinearRegression().fit(X, y)\n",
    "print(reg.coef_)\n",
    "print(reg.intercept_)\n",
    "price_0 = reg.predict(np.array([0]).reshape(-1, 1))\n",
    "price_45k = reg.predict(np.array([45000]).reshape(-1, 1))\n",
    "price_75k = reg.predict(np.array([75000]).reshape(-1, 1))\n",
    "print(price_45k/price_0)\n",
    "print(price_75k/price_0)"
   ]
  },
  {
   "cell_type": "code",
   "execution_count": 19,
   "metadata": {},
   "outputs": [
    {
     "data": {
      "text/html": [
       "<div>\n",
       "<style scoped>\n",
       "    .dataframe tbody tr th:only-of-type {\n",
       "        vertical-align: middle;\n",
       "    }\n",
       "\n",
       "    .dataframe tbody tr th {\n",
       "        vertical-align: top;\n",
       "    }\n",
       "\n",
       "    .dataframe thead th {\n",
       "        text-align: right;\n",
       "    }\n",
       "</style>\n",
       "<table border=\"1\" class=\"dataframe\">\n",
       "  <thead>\n",
       "    <tr style=\"text-align: right;\">\n",
       "      <th></th>\n",
       "      <th>config</th>\n",
       "      <th>drivetrain</th>\n",
       "      <th>exterior_color</th>\n",
       "      <th>mileage</th>\n",
       "      <th>price</th>\n",
       "      <th>year</th>\n",
       "    </tr>\n",
       "  </thead>\n",
       "  <tbody>\n",
       "    <tr>\n",
       "      <th>1</th>\n",
       "      <td>Base</td>\n",
       "      <td>AWD</td>\n",
       "      <td>Brown</td>\n",
       "      <td>143395</td>\n",
       "      <td>7950.0</td>\n",
       "      <td>2009</td>\n",
       "    </tr>\n",
       "    <tr>\n",
       "      <th>3</th>\n",
       "      <td>Base</td>\n",
       "      <td>AWD</td>\n",
       "      <td>Black</td>\n",
       "      <td>96814</td>\n",
       "      <td>9499.0</td>\n",
       "      <td>2009</td>\n",
       "    </tr>\n",
       "    <tr>\n",
       "      <th>4</th>\n",
       "      <td>Base</td>\n",
       "      <td>AWD</td>\n",
       "      <td>Brown</td>\n",
       "      <td>57878</td>\n",
       "      <td>11900.0</td>\n",
       "      <td>2013</td>\n",
       "    </tr>\n",
       "    <tr>\n",
       "      <th>5</th>\n",
       "      <td>Base</td>\n",
       "      <td>AWD</td>\n",
       "      <td>Brown</td>\n",
       "      <td>80298</td>\n",
       "      <td>15995.0</td>\n",
       "      <td>2015</td>\n",
       "    </tr>\n",
       "    <tr>\n",
       "      <th>9</th>\n",
       "      <td>Base</td>\n",
       "      <td>FWD</td>\n",
       "      <td>Brown</td>\n",
       "      <td>55039</td>\n",
       "      <td>18500.0</td>\n",
       "      <td>2015</td>\n",
       "    </tr>\n",
       "  </tbody>\n",
       "</table>\n",
       "</div>"
      ],
      "text/plain": [
       "  config drivetrain exterior_color  mileage    price  year\n",
       "1   Base        AWD          Brown   143395   7950.0  2009\n",
       "3   Base        AWD          Black    96814   9499.0  2009\n",
       "4   Base        AWD          Brown    57878  11900.0  2013\n",
       "5   Base        AWD          Brown    80298  15995.0  2015\n",
       "9   Base        FWD          Brown    55039  18500.0  2015"
      ]
     },
     "execution_count": 19,
     "metadata": {},
     "output_type": "execute_result"
    }
   ],
   "source": [
    "# PCA\n",
    "from sklearn.decomposition import PCA\n",
    "from sklearn.model_selection import train_test_split\n",
    "from sklearn import preprocessing\n",
    "from sklearn.datasets import make_classification\n",
    "from sklearn.preprocessing import binarize, LabelEncoder, MinMaxScaler\n",
    "\n",
    "#df_MKS.corr()\n",
    "#Get rid of 'model', 'brand', 'interior_color', 'transmission'\n",
    "df_MKS = df_MKS.drop(['model'], axis= 1)\n",
    "df_MKS = df_MKS.drop(['brand'], axis= 1)\n",
    "df_MKS = df_MKS.drop(['interior_color'], axis= 1)\n",
    "df_MKS = df_MKS.drop(['transmission'], axis= 1)\n",
    "df_MKS.head()"
   ]
  },
  {
   "cell_type": "code",
   "execution_count": 20,
   "metadata": {},
   "outputs": [],
   "source": [
    "#Encoding data\n",
    "labelDict = {}\n",
    "for feature in df_MKS:\n",
    "    le = preprocessing.LabelEncoder()\n",
    "    le.fit(df_MKS[feature])\n",
    "    le_name_mapping = dict(zip(le.classes_, le.transform(le.classes_)))\n",
    "    df_MKS[feature] = le.transform(df_MKS[feature])\n",
    "    # Get labels\n",
    "    labelKey = 'label_' + feature\n",
    "    labelValue = [*le_name_mapping]\n",
    "    labelDict[labelKey] =labelValue    "
   ]
  },
  {
   "cell_type": "code",
   "execution_count": 21,
   "metadata": {},
   "outputs": [
    {
     "data": {
      "image/png": "[encoded data removed]",
      "text/plain": [
       "<Figure size 864x648 with 2 Axes>"
      ]
     },
     "metadata": {
      "needs_background": "light"
     },
     "output_type": "display_data"
    }
   ],
   "source": [
    "#correlation matrix\n",
    "corrmat = df_MKS.corr()\n",
    "f, ax = plt.subplots(figsize=(12, 9))\n",
    "sns.heatmap(corrmat, vmax=.8, square=True);\n",
    "plt.show()"
   ]
  },
  {
   "cell_type": "code",
   "execution_count": null,
   "metadata": {},
   "outputs": [],
   "source": []
  }
 ],
 "metadata": {
  "kernelspec": {
   "display_name": "Python 3",
   "language": "python",
   "name": "python3"
  },
  "language_info": {
   "codemirror_mode": {
    "name": "ipython",
    "version": 3
   },
   "file_extension": ".py",
   "mimetype": "text/x-python",
   "name": "python",
   "nbconvert_exporter": "python",
   "pygments_lexer": "ipython3",
   "version": "3.7.1"
  }
 },
 "nbformat": 4,
 "nbformat_minor": 2
}
